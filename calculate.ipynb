{
  "nbformat": 4,
  "nbformat_minor": 0,
  "metadata": {
    "colab": {
      "name": "calculate.ipynb",
      "provenance": [],
      "collapsed_sections": [
        "_upGJj7sG2Zz",
        "bH1WZvSbG7m9",
        "tFzGhN6gG5Zl"
      ],
      "toc_visible": true
    },
    "kernelspec": {
      "name": "python3",
      "display_name": "Python 3"
    },
    "language_info": {
      "name": "python"
    }
  },
  "cells": [
    {
      "cell_type": "markdown",
      "source": [
        "### Libraries"
      ],
      "metadata": {
        "id": "_upGJj7sG2Zz"
      }
    },
    {
      "cell_type": "code",
      "execution_count": 32,
      "metadata": {
        "id": "1zq8fz38U-OX"
      },
      "outputs": [],
      "source": [
        "import numpy as np\n",
        "from numpy.linalg import inv\n",
        "from numpy import linalg as LA\n",
        "from numpy import matmul\n",
        "from scipy.linalg import lu\n",
        "from sympy import symbols, Eq, solve\n",
        "from statistics import variance\n",
        "import statistics as stat\n",
        "from scipy import stats\n",
        "from sklearn.linear_model import LinearRegression\n",
        "from sklearn import metrics\n",
        "from sklearn.neighbors import KNeighborsClassifier\n",
        "from sklearn.neighbors import KNeighborsRegressor\n",
        "from sklearn.tree import DecisionTreeRegressor\n",
        "from sklearn.datasets import load_iris\n",
        "from sklearn.model_selection import cross_val_score\n",
        "from sklearn.tree import DecisionTreeClassifier\n",
        "from sklearn.neural_network import MLPClassifier\n",
        "from sklearn.ensemble import RandomForestClassifier\n",
        "from sklearn.neural_network import MLPRegressor\n",
        "from sklearn.ensemble import RandomForestRegressor"
      ]
    },
    {
      "cell_type": "markdown",
      "source": [
        "## Workspace"
      ],
      "metadata": {
        "id": "bH1WZvSbG7m9"
      }
    },
    {
      "cell_type": "markdown",
      "source": [
        "### Nearest neighbour"
      ],
      "metadata": {
        "id": "1j681oEm1Lq6"
      }
    },
    {
      "cell_type": "code",
      "source": [
        "X = [[0], [1], [2], [3]]\n",
        "y = [0, 0, 1, 1]\n",
        "neigh = KNeighborsClassifier(n_neighbors=3)\n",
        "neigh.fit(X, y)\n",
        "print(neigh.predict([[1.1],[2.4]]))\n",
        "print(neigh.predict_proba([[1.1],[2.4]]))"
      ],
      "metadata": {
        "colab": {
          "base_uri": "https://localhost:8080/"
        },
        "id": "GKkF1v1xG44G",
        "outputId": "f64c455d-bd11-4e3d-b15d-6eca94d69c18"
      },
      "execution_count": 6,
      "outputs": [
        {
          "output_type": "stream",
          "name": "stdout",
          "text": [
            "[0 1]\n",
            "[[0.66666667 0.33333333]\n",
            " [0.33333333 0.66666667]]\n"
          ]
        }
      ]
    },
    {
      "cell_type": "code",
      "source": [
        "X = [[0], [1], [2], [3]]\n",
        "y = [0, 0, 1, 1]\n",
        "neigh = KNeighborsRegressor(n_neighbors=2)\n",
        "neigh.fit(X, y)\n",
        "print(neigh.predict([[1.5]]))"
      ],
      "metadata": {
        "colab": {
          "base_uri": "https://localhost:8080/"
        },
        "id": "WJTnzL3MZY5l",
        "outputId": "69467ecf-7d39-46b8-8185-97d35a4f72e9"
      },
      "execution_count": 7,
      "outputs": [
        {
          "output_type": "stream",
          "name": "stdout",
          "text": [
            "[0.5]\n"
          ]
        }
      ]
    },
    {
      "cell_type": "markdown",
      "source": [
        "### Decision tree"
      ],
      "metadata": {
        "id": "hY9o_wAQ1PeC"
      }
    },
    {
      "cell_type": "code",
      "source": [
        "X = [[0], [1], [2], [3]]\n",
        "y = [0, 0, 1, 1]\n",
        "clf = DecisionTreeClassifier(random_state=0)\n",
        "clf.fit(X,y)\n",
        "print(clf.predict([[1.1],[2.4]]))"
      ],
      "metadata": {
        "colab": {
          "base_uri": "https://localhost:8080/"
        },
        "id": "ZP6UX2m9uRnG",
        "outputId": "8fcdf491-82be-4828-8333-4c458d8bdcad"
      },
      "execution_count": 29,
      "outputs": [
        {
          "output_type": "stream",
          "name": "stdout",
          "text": [
            "[0 1]\n"
          ]
        }
      ]
    },
    {
      "cell_type": "code",
      "source": [
        "X = [[0], [1], [2], [3]]\n",
        "y = [0, 0, 1, 1]\n",
        "reg = DecisionTreeRegressor(random_state=0)\n",
        "reg.fit(X, y)\n",
        "print(reg.predict([[1.5],[2],[4]]))"
      ],
      "metadata": {
        "colab": {
          "base_uri": "https://localhost:8080/"
        },
        "id": "0hZpehrX1TWt",
        "outputId": "728f273a-a504-41e5-8008-04f49b598018"
      },
      "execution_count": 24,
      "outputs": [
        {
          "output_type": "stream",
          "name": "stdout",
          "text": [
            "[0. 1. 1.]\n"
          ]
        }
      ]
    },
    {
      "cell_type": "code",
      "source": [
        "X = [[0], [1], [2], [3]]\n",
        "y = [0, 0, 1, 1]\n",
        "clf = RandomForestClassifier(random_state=0)\n",
        "clf.fit(X,y)\n",
        "print(clf.predict([[1.1],[2.4]]))"
      ],
      "metadata": {
        "colab": {
          "base_uri": "https://localhost:8080/"
        },
        "id": "t_6bQGf02Swo",
        "outputId": "2ba2d3e2-1439-4ee5-b238-7148b238943d"
      },
      "execution_count": 31,
      "outputs": [
        {
          "output_type": "stream",
          "name": "stdout",
          "text": [
            "[0 1]\n"
          ]
        }
      ]
    },
    {
      "cell_type": "code",
      "source": [
        "X = [[0], [1], [2], [3]]\n",
        "y = [0, 0, 1, 1]\n",
        "reg = RandomForestRegressor(max_depth=2, random_state=0)\n",
        "reg.fit(X, y)\n",
        "print(reg.predict([[1.5],[2],[4]]))"
      ],
      "metadata": {
        "colab": {
          "base_uri": "https://localhost:8080/"
        },
        "id": "eMhePe362SoX",
        "outputId": "4513445a-18f0-4011-e092-127746429170"
      },
      "execution_count": 33,
      "outputs": [
        {
          "output_type": "stream",
          "name": "stdout",
          "text": [
            "[0.24 0.69 0.91]\n"
          ]
        }
      ]
    },
    {
      "cell_type": "markdown",
      "source": [
        "### Neural network"
      ],
      "metadata": {
        "id": "WZM9MY7L1Fs7"
      }
    },
    {
      "cell_type": "code",
      "source": [
        "from sklearn.neural_network import MLPClassifier\n",
        "X = [[0., 0.], [1., 1.]]\n",
        "y = [0, 1]\n",
        "clf = MLPClassifier(solver='lbfgs', alpha=1e-5,hidden_layer_sizes=(5, 3), random_state=1)\n",
        "clf.fit(X, y)\n",
        "y_p = clf.predict([[2., 2.], [-1., -2.]])\n",
        "print(\"pridicted value = \",y_p)\n",
        "print(\"shape of the coefficients = \",[coef.shape for coef in clf.coefs_])\n",
        "print(\"coefficients = \",clf.coefs_)\n",
        "print(\"intercepts = \",clf.intercepts_)"
      ],
      "metadata": {
        "colab": {
          "base_uri": "https://localhost:8080/"
        },
        "id": "y-8S4XY1vDol",
        "outputId": "35b2e85a-3dce-4b21-ce9a-91e5d8d8d934"
      },
      "execution_count": 19,
      "outputs": [
        {
          "output_type": "stream",
          "name": "stdout",
          "text": [
            "pridicted value =  [1 0]\n",
            "shape of the coefficients =  [(2, 5), (5, 3), (3, 4), (4, 1)]\n",
            "coefficients =  [array([[-0.1534858 ,  7.90088182, -0.92464689, -2.47609656, -0.6534016 ],\n",
            "       [-0.75405819,  6.91301409, -0.28566893, -2.30141873,  0.07179997]]), array([[ 0.2949517 , -0.14308351,  0.10154818],\n",
            "       [-0.52833572, -0.9386695 ,  1.37039847],\n",
            "       [ 0.8102104 , -0.32282314,  0.33276654],\n",
            "       [ 1.26012107, -0.27246214, -7.5372787 ],\n",
            "       [-0.79755126, -0.57127649,  0.65428172]]), array([[ 0.06134639,  0.35491834, -0.34124386,  1.08806488],\n",
            "       [ 0.81207255, -0.53220216,  0.46269617,  0.90425462],\n",
            "       [-1.89101115, -3.45908306,  6.76578265, -0.73391956]]), array([[ 0.07211119],\n",
            "       [ 0.30885511],\n",
            "       [ 9.08677449],\n",
            "       [-0.8370695 ]])]\n",
            "intercepts =  [array([-0.14962269,  0.87673271, -0.5472481 ,  7.60364182, -0.87510813]), array([-0.57959025, -1.24030913,  0.92695735]), array([-2.64081412, -2.00587731, -0.40305132, -0.06105139]), array([-4.221964])]\n"
          ]
        }
      ]
    },
    {
      "cell_type": "code",
      "source": [
        "from sklearn.neural_network import MLPClassifier\n",
        "X = [[0., 0.], [1., 1.]]\n",
        "y = [0, 1]\n",
        "reg = MLPRegressor(random_state=1,hidden_layer_sizes=(6,3,2), max_iter=500).fit(X, y)\n",
        "reg.fit(X, y)\n",
        "y_p = reg.predict([[2., 2.], [-1., -2.]])\n",
        "print(\"pridicted value = \",y_p)\n",
        "print(\"shape of the coefficients = \",[coef.shape for coef in reg.coefs_])\n",
        "print(\"coefficients = \",reg.coefs_)\n",
        "print(\"intercepts = \",reg.intercepts_)"
      ],
      "metadata": {
        "colab": {
          "base_uri": "https://localhost:8080/"
        },
        "id": "QIg5Vw6Tzpux",
        "outputId": "f04e65e6-a1bd-40a6-9ea9-3bfbcff829ac"
      },
      "execution_count": 21,
      "outputs": [
        {
          "output_type": "stream",
          "name": "stderr",
          "text": [
            "/usr/local/lib/python3.7/dist-packages/sklearn/neural_network/_multilayer_perceptron.py:696: ConvergenceWarning: Stochastic Optimizer: Maximum iterations (500) reached and the optimization hasn't converged yet.\n",
            "  ConvergenceWarning,\n"
          ]
        },
        {
          "output_type": "stream",
          "name": "stdout",
          "text": [
            "pridicted value =  [-0.65049651 -0.85858568]\n",
            "shape of the coefficients =  [(2, 6), (6, 3), (3, 2), (2, 1)]\n",
            "coefficients =  [array([[-1.32617776e-05,  2.39180671e-01, -4.36936063e-01,\n",
            "        -2.15208243e-01, -2.16065345e-01, -2.95081485e-01],\n",
            "       [-1.62168211e-01, -4.09907579e-01, -3.60948801e-04,\n",
            "         1.94381396e-01, -7.68733226e-06,  2.69477667e-02]]), array([[-1.96293664e-01, -1.25082082e-01,  1.23748710e-01],\n",
            "       [ 6.28565378e-01,  1.84639827e-02,  2.44091967e-02],\n",
            "       [ 2.18345367e-01,  2.42826559e-01, -2.70744295e-01],\n",
            "       [-9.60626779e-01, -1.44506738e-01,  2.20678509e-01],\n",
            "       [-2.52429857e-01, -9.58917999e-07,  3.31275083e-01],\n",
            "       [-1.70501809e-01,  5.57581622e-01, -1.99432566e-02]]), array([[ 0.45116321,  0.97293044],\n",
            "       [ 0.27813507, -0.80710952],\n",
            "       [ 0.23403545, -0.44008679]]), array([[-0.50144188],\n",
            "       [-0.46141584]])]\n",
            "intercepts =  [array([-0.51190372,  0.50205743, -0.8185887 ,  0.44521649, -0.14323228,\n",
            "        0.25160434]), array([ 0.14960334,  0.90908161, -0.78663195]), array([-0.28821635,  0.6691446 ]), array([-0.65049651])]\n"
          ]
        },
        {
          "output_type": "stream",
          "name": "stderr",
          "text": [
            "/usr/local/lib/python3.7/dist-packages/sklearn/neural_network/_multilayer_perceptron.py:696: ConvergenceWarning: Stochastic Optimizer: Maximum iterations (500) reached and the optimization hasn't converged yet.\n",
            "  ConvergenceWarning,\n"
          ]
        }
      ]
    },
    {
      "cell_type": "markdown",
      "source": [
        "## End"
      ],
      "metadata": {
        "id": "tFzGhN6gG5Zl"
      }
    },
    {
      "cell_type": "code",
      "source": [
        "a = [80,40]\n",
        "mean = np.mean(a)\n",
        "std = np.std(a)\n",
        "var = np.var(a)\n",
        "var_samp = stat.variance(a)\n",
        "mean_samp = stat.mean(a)\n",
        "std_samp = stat.stdev(a)\n",
        "print(\"mean = \",mean)\n",
        "print(\"std = \", std)\n",
        "print(\"var = \", var)\n",
        "print(\"mean_samp = \", mean_samp)\n",
        "print(\"var_samp = \", var_samp)\n",
        "print(\"std_samp = \", std_samp)"
      ],
      "metadata": {
        "id": "h-v1CKSOOhgR",
        "colab": {
          "base_uri": "https://localhost:8080/"
        },
        "outputId": "e38e8f37-2992-4dcf-baac-3a8b1f2184e5"
      },
      "execution_count": null,
      "outputs": [
        {
          "output_type": "stream",
          "name": "stdout",
          "text": [
            "mean =  60.0\n",
            "std =  20.0\n",
            "var =  400.0\n",
            "mean_samp =  60\n",
            "var_samp =  800\n",
            "std_samp =  28.284271247461902\n"
          ]
        }
      ]
    },
    {
      "cell_type": "code",
      "source": [
        "x = [-3.37,-2.6,6.05,1.76,-6.11,-3.07,-6.46,0.39,5.31,4.13]\n",
        "y = [-3.3,-2.53,6.12,1.83,-6.04,-3,-6.39,0.46,5.38,4.2]\n",
        "corr_spearman = stats.spearmanr(x,y)\n",
        "corr_pearson = stats.pearsonr(x, y)\n",
        "corr_kendall = stats.kendalltau(x, y)\n",
        "print(\"corr_spearman = \",corr_spearman)\n",
        "print(\"corr_pearson = \",corr_pearson)\n",
        "print(\"corr_kendall = \",corr_kendall)"
      ],
      "metadata": {
        "colab": {
          "base_uri": "https://localhost:8080/"
        },
        "id": "WiwxbJUM-19U",
        "outputId": "c390b7c4-4c15-43d6-b5cb-948b397a2c9f"
      },
      "execution_count": null,
      "outputs": [
        {
          "output_type": "stream",
          "name": "stdout",
          "text": [
            "corr_spearman =  SpearmanrResult(correlation=0.9999999999999999, pvalue=6.646897422032013e-64)\n",
            "corr_pearson =  (0.9999999999999998, 1.0635035875250972e-62)\n",
            "corr_kendall =  KendalltauResult(correlation=0.9999999999999999, pvalue=5.511463844797178e-07)\n"
          ]
        }
      ]
    },
    {
      "cell_type": "code",
      "source": [
        "x = np.array([[13.38,6.82],[9.7,12.66],[11.61,11.41],[7.9,8.73],[6.03,5.86],[14.53,11.81],[9.49,6.18],[5.03,9.11],[12.59,10.9],[5.25,7.2]])\n",
        "y = np.array([43.18,64.82,67.83,50.66,26.57,58.57,39.23,33.14,61.03,36.37])\n",
        "reg = LinearRegression().fit(x, y)\n",
        "print(\"coefficients = \",reg.coef_)\n",
        "print(\"intercept = \",reg.intercept_)\n",
        "y_p = reg.predict(x)\n",
        "r2_score = metrics.r2_score(y, y_p)\n",
        "print(\"r2_score = \",r2_score)"
      ],
      "metadata": {
        "colab": {
          "base_uri": "https://localhost:8080/"
        },
        "id": "PnDYlhxFi6DV",
        "outputId": "ace0a7b0-79b4-4441-d4b5-dc7e6fdc991a"
      },
      "execution_count": null,
      "outputs": [
        {
          "output_type": "stream",
          "name": "stdout",
          "text": [
            "coefficients =  [1.48741945 4.09370089]\n",
            "intercept =  -3.1880227844911886\n",
            "r2_score =  0.8622386152677342\n"
          ]
        }
      ]
    },
    {
      "cell_type": "code",
      "source": [
        "\"\"\"import statsmodels.api as sm\n",
        "sm.qqplot(y_p-y, line ='45')\"\"\""
      ],
      "metadata": {
        "colab": {
          "base_uri": "https://localhost:8080/",
          "height": 35
        },
        "id": "N4VSZRhYq7hQ",
        "outputId": "0715278e-11e6-4e1b-a1f0-72b379e24d6e"
      },
      "execution_count": null,
      "outputs": [
        {
          "output_type": "execute_result",
          "data": {
            "text/plain": [
              "\"import statsmodels.api as sm\\nsm.qqplot(y_p-y, line ='45')\""
            ],
            "application/vnd.google.colaboratory.intrinsic+json": {
              "type": "string"
            }
          },
          "metadata": {},
          "execution_count": 25
        }
      ]
    },
    {
      "cell_type": "code",
      "source": [
        "error = y_p - y\n",
        "print(error)\n",
        "mean_samp = np.mean(error)\n",
        "std_samp = stat.stdev(error)\n",
        "#std_samp = np.std(error)\n",
        "print(\"mean_samp = \", mean_samp)\n",
        "print(\"std_samp = \", std_samp)\n",
        "var = np.mean(error*error)\n",
        "print(np.sqrt(var))"
      ],
      "metadata": {
        "colab": {
          "base_uri": "https://localhost:8080/"
        },
        "id": "5NTWS_3osqm2",
        "outputId": "6c5ecb7b-b63a-44f0-ef6d-3dc4b2f12344"
      },
      "execution_count": null,
      "outputs": [
        {
          "output_type": "stream",
          "name": "stdout",
          "text": [
            "[ 1.45268946 -1.75380091 -7.03995588 -6.35940041  3.20020368  8.20078926\n",
            " -3.00334075  8.44731212 -0.87007228 -2.2744243 ]\n",
            "mean_samp =  -2.842170943040401e-15\n",
            "std_samp =  5.364393867297803\n",
            "5.08911086607003\n"
          ]
        }
      ]
    },
    {
      "cell_type": "code",
      "source": [
        "x = np.array([7.93,4.83,5.8,4.37,4.93,6.21,8.46,5.14,0.22,6.36])\n",
        "y = np.array([11.94,10.74,10.12,9.52,11.73,10.32,12.91,11.63,6.64,11.89])\n",
        "y_p = 0.7*x+6.97\n",
        "r2_score = metrics.r2_score(y, y_p)\n",
        "print(\"r2_score = \",r2_score)"
      ],
      "metadata": {
        "colab": {
          "base_uri": "https://localhost:8080/"
        },
        "id": "LrxfPXlyu_q0",
        "outputId": "225e8322-ffc9-48c8-b085-f90710b2cbf4"
      },
      "execution_count": null,
      "outputs": [
        {
          "output_type": "stream",
          "name": "stdout",
          "text": [
            "r2_score =  0.7913007105382268\n"
          ]
        }
      ]
    },
    {
      "cell_type": "code",
      "source": [
        "from sklearn.linear_model import LinearRegression\n",
        "import statsmodels.api as sm\n",
        "x1 = np.array([[11.9,16.9,17.2,16.9,12.5,7.7,6,1.1,5.5,9.6]])\n",
        "x2 = np.array([[4.2,2.7,2.3,4.3,2.0,3.4,2.2,4.8,1.1,4.4]])\n",
        "x3 = np.array([[2.6,4.1,2.8,3.6,3.7,3.1,2.9,3.9,1,2.6]])\n",
        "x4 = np.array([[1.3,3.8,1.5,1.1,2,1.2,1.5,2.2,4.6,2.5]])\n",
        "x5 = np.array([[9,2,2,8,4,7,8,3,1,4]])\n",
        "x = np.append(x1,x2,axis=0)\n",
        "x = np.append(x,x5,axis=0)\n",
        "x = np.append(x,x3,axis=0)\n",
        "#x = x1\n",
        "x = x.T\n",
        "y = np.array([61.59,64.99,64.46,49.02,34.25,79.37,80.54,76.22,34.25,78.59])\n",
        "x = sm.add_constant(x)\n",
        "print(x)\n",
        "model = sm.OLS(y, x).fit()\n",
        "print(model.aic)"
      ],
      "metadata": {
        "colab": {
          "base_uri": "https://localhost:8080/"
        },
        "id": "OlvkYedd5szt",
        "outputId": "f9218bf4-eba9-4fde-c9c7-dc3055d73c06"
      },
      "execution_count": null,
      "outputs": [
        {
          "output_type": "stream",
          "name": "stdout",
          "text": [
            "[[ 1.  11.9  4.2  9.   2.6]\n",
            " [ 1.  16.9  2.7  2.   4.1]\n",
            " [ 1.  17.2  2.3  2.   2.8]\n",
            " [ 1.  16.9  4.3  8.   3.6]\n",
            " [ 1.  12.5  2.   4.   3.7]\n",
            " [ 1.   7.7  3.4  7.   3.1]\n",
            " [ 1.   6.   2.2  8.   2.9]\n",
            " [ 1.   1.1  4.8  3.   3.9]\n",
            " [ 1.   5.5  1.1  1.   1. ]\n",
            " [ 1.   9.6  4.4  4.   2.6]]\n",
            "90.75308430035648\n"
          ]
        }
      ]
    },
    {
      "cell_type": "code",
      "source": [
        "from sklearn.linear_model import LinearRegression\n",
        "import statsmodels.api as sm\n",
        "x = np.array([[7.2,8.1,10.8,26.1,24.9,2.4]])\n",
        "x = np.append(x,(x*x),axis=0)\n",
        "x = x.T\n",
        "y = np.array([202.8,268.2,575.7,6579.6,5701.5,26.1])\n",
        "x = sm.add_constant(x)\n",
        "print(x)\n",
        "model = sm.OLS(y, x).fit()\n",
        "print(model.bic)"
      ],
      "metadata": {
        "colab": {
          "base_uri": "https://localhost:8080/"
        },
        "id": "BCXrpYKkCAKx",
        "outputId": "f4b32fc2-94ff-4488-d3b4-41eb9985916a"
      },
      "execution_count": null,
      "outputs": [
        {
          "output_type": "stream",
          "name": "stdout",
          "text": [
            "[[  1.     7.2   51.84]\n",
            " [  1.     8.1   65.61]\n",
            " [  1.    10.8  116.64]\n",
            " [  1.    26.1  681.21]\n",
            " [  1.    24.9  620.01]\n",
            " [  1.     2.4    5.76]]\n",
            "72.54497507577024\n"
          ]
        }
      ]
    },
    {
      "cell_type": "code",
      "source": [
        "from sklearn.linear_model import LinearRegression\n",
        "import statsmodels.api as sm\n",
        "x1 = np.array([[7.2,8.1,10.8,26.1,24.9,2.4]])\n",
        "x = np.append(x1,(x1*x1),axis=0)\n",
        "x = np.append(x,(x1*x1*x1),axis=0)\n",
        "x = np.append(x,(x1*x1*x1*x1),axis=0)\n",
        "x = np.append(x,(x1*x1*x1*x1*x1),axis=0)\n",
        "x = np.append(x,(x1*x1*x1*x1*x1*x1),axis=0)\n",
        "x = x.T\n",
        "y = np.array([202.8,268.2,575.7,6579.6,5701.5,26.1])\n",
        "x = sm.add_constant(x)\n",
        "#print(x)\n",
        "model = sm.OLS(y, x).fit()\n",
        "print(model.bic)"
      ],
      "metadata": {
        "colab": {
          "base_uri": "https://localhost:8080/"
        },
        "id": "hQT0sfZUCaJO",
        "outputId": "59973d80-aeed-43a1-d416-f64598c4be3f"
      },
      "execution_count": null,
      "outputs": [
        {
          "output_type": "stream",
          "name": "stdout",
          "text": [
            "-178.08436094437795\n"
          ]
        }
      ]
    },
    {
      "cell_type": "code",
      "source": [
        ""
      ],
      "metadata": {
        "id": "8qZPJywpDTMk"
      },
      "execution_count": null,
      "outputs": []
    }
  ]
}